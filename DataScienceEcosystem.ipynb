{
  "metadata": {
    "kernelspec": {
      "name": "xpython",
      "display_name": "Python 3.13 (XPython)",
      "language": "python"
    },
    "language_info": {
      "file_extension": ".py",
      "mimetype": "text/x-python",
      "name": "python",
      "version": "3.13.1"
    }
  },
  "nbformat_minor": 5,
  "nbformat": 4,
  "cells": [
    {
      "id": "2e72325a-caed-4471-bb43-fed899d4ce17",
      "cell_type": "markdown",
      "source": "# Data Science Tools and Ecosystem",
      "metadata": {}
    },
    {
      "id": "97ed99bc-1081-49f4-818f-178764779a8d",
      "cell_type": "markdown",
      "source": "In this notebook, Data Science Tools and Ecosystem are summarized.",
      "metadata": {}
    },
    {
      "id": "d99e52c8-9a27-4ed8-bb5f-bead52691808",
      "cell_type": "markdown",
      "source": "Objectives:\n\n- List Popular Languajes for Data Science\n- List commonly used libraries for Data Science.\n- Use arithmetic expressions\n- Create a table using Markdowns",
      "metadata": {}
    },
    {
      "id": "5504bd63-2058-4fd2-bf8c-652089002976",
      "cell_type": "markdown",
      "source": "Some of the popular languages that Data Scientists use are:",
      "metadata": {}
    },
    {
      "id": "5d1a7d1e-b878-4ea8-92be-4f3109bd900b",
      "cell_type": "markdown",
      "source": "1. python\n2. R\n3. Julia\n4. Java\n5. Matlab",
      "metadata": {}
    },
    {
      "id": "5ab6a562-b008-4cc8-98ff-e4b800b649c2",
      "cell_type": "markdown",
      "source": "Some of the commonly used libraries used by Data Scientists include:",
      "metadata": {}
    },
    {
      "id": "366c6b22-c6a5-4291-b59d-8acdaefeb9cb",
      "cell_type": "markdown",
      "source": "1. Panda\n2. Numpy\n3. Seaborn\n4. Matplotlib",
      "metadata": {}
    },
    {
      "id": "0f5fbc4b-6606-4bb0-84e1-7a1c44aef6fe",
      "cell_type": "markdown",
      "source": "| Data Science Tools|\n|-----------------|\n|Jupyter Notebook|\n| RStudio |\n| VS Code |",
      "metadata": {
        "jp-MarkdownHeadingCollapsed": true
      }
    },
    {
      "id": "2acdbad4-c319-4e51-acf8-e170937d8650",
      "cell_type": "markdown",
      "source": "### Below are a few examples of evaluating arithmetic expressions in Python",
      "metadata": {}
    },
    {
      "id": "72c90c0c-52fe-4547-b593-494482ce0282",
      "cell_type": "code",
      "source": "(3*4)+5",
      "metadata": {
        "trusted": true
      },
      "outputs": [
        {
          "execution_count": 6,
          "output_type": "execute_result",
          "data": {
            "text/plain": "17"
          },
          "metadata": {}
        }
      ],
      "execution_count": 6
    },
    {
      "id": "52021288-b8df-4c3c-8dc5-70866587cb2f",
      "cell_type": "code",
      "source": "#This will convert 200 minutes to hours by diving by 60\nminutes = 200\nhours = minutes // 60\nremaining = 200%60\n\nprint(f\"{hours} hours and {remaining} minutes\")\n",
      "metadata": {
        "trusted": true
      },
      "outputs": [
        {
          "name": "stdout",
          "output_type": "stream",
          "text": "3 hours and 20 minutes\n"
        }
      ],
      "execution_count": 10
    },
    {
      "id": "ab971db1-a878-4ed4-9aa6-f96ce1c2a001",
      "cell_type": "markdown",
      "source": "## Author\n\nAngela ",
      "metadata": {}
    },
    {
      "id": "787c376d-3841-4213-a984-b4d52aaac05c",
      "cell_type": "code",
      "source": "",
      "metadata": {
        "trusted": true
      },
      "outputs": [],
      "execution_count": null
    }
  ]
}